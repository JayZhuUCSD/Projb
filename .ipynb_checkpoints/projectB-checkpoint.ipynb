{
 "cells": [
  {
   "cell_type": "markdown",
   "metadata": {},
   "source": [
    "# ECE 285 – Project B Total Variation"
   ]
  },
  {
   "cell_type": "code",
   "execution_count": 6,
   "metadata": {},
   "outputs": [
    {
     "name": "stdout",
     "output_type": "stream",
     "text": [
      "The autoreload extension is already loaded. To reload it, use:\n",
      "  %reload_ext autoreload\n"
     ]
    }
   ],
   "source": [
    "%load_ext autoreload\n",
    "%autoreload 2\n",
    "import numpy as np\n",
    "import numpy.fft as npf\n",
    "import matplotlib\n",
    "import matplotlib.pyplot as plt\n",
    "import time\n",
    "import imagetools.projectB as im\n",
    "starfish = plt.imread('assets/starfish.png')\n",
    "flowers = plt.imread('assets/flowers.png')\n",
    "ball = plt.imread('assets/ball.png')\n",
    "%matplotlib notebook"
   ]
  },
  {
   "cell_type": "markdown",
   "metadata": {},
   "source": [
    "## 1 Operators"
   ]
  },
  {
   "cell_type": "markdown",
   "metadata": {},
   "source": [
    "### 1"
   ]
  },
  {
   "cell_type": "raw",
   "metadata": {},
   "source": [
    "class Identity(LinearOperator):\n",
    "    def __init__(self, ishape, oshape=None):\n",
    "        LinearOperator.__init__(self, ishape, oshape=None)\n",
    "        self._ishape = ishape\n",
    "        self.nu = im.kernel(\"box\",tau=0)\n",
    "        self.mu = np.flip(self.nu,1)[::-1]\n",
    "        self.H = im.kernel2fft(self.nu, ishape[0], ishape[1])\n",
    "        self.H_star = im.kernel2fft(self.mu, ishape[0], ishape[1])\n",
    "    def __call__(self, x):\n",
    "        return im.convolvefft(x, self.H)\n",
    "    def adjoint(self, x):\n",
    "        return im.convolvefft(x, self.H_star)\n",
    "    def gram(self, x):\n",
    "        return im.convolvefft(x, self.H*self.H_star)\n",
    "    def gram_resolvent(self, x, tau):\n",
    "        res_lbd = 1 / (1 + tau * self.H*self.H_star)\n",
    "        return im.convolvefft(x, res_lbd)"
   ]
  },
  {
   "cell_type": "markdown",
   "metadata": {},
   "source": [
    "#### 2"
   ]
  },
  {
   "cell_type": "raw",
   "metadata": {},
   "source": [
    "class Convolution(LinearOperator):\n",
    "    def __init__(self, ishape, nu, oshape=None):\n",
    "        LinearOperator.__init__(self, ishape, oshape=None)\n",
    "        self._ishape = ishape\n",
    "        self.nu = nu\n",
    "        self.mu = np.flip(self.nu,1)[::-1]\n",
    "        self.H = im.kernel2fft(self.nu, ishape[0], ishape[1])\n",
    "        self.H_star = im.kernel2fft(self.mu, ishape[0], ishape[1])\n",
    "    def __call__(self, x):\n",
    "        return im.convolvefft(x, self.H)\n",
    "    def adjoint(self, x):\n",
    "        return im.convolvefft(x, self.H_star)\n",
    "    def gram(self, x):\n",
    "        return im.convolvefft(x, self.H*self.H_star)\n",
    "    def gram_resolvent(self, x, tau):\n",
    "        res_lbd = 1 / (1 + tau * self.H*self.H_star)\n",
    "        return im.convolvefft(x, res_lbd)"
   ]
  },
  {
   "cell_type": "markdown",
   "metadata": {},
   "source": [
    "### 3"
   ]
  },
  {
   "cell_type": "raw",
   "metadata": {},
   "source": [
    "class RandomMasking(LinearOperator):\n",
    "    def __init__(self, ishape, p, oshape=None):\n",
    "        LinearOperator.__init__(self, ishape, oshape=None)\n",
    "        self._ishape = ishape\n",
    "        self._p = p\n",
    "        self.nu = np.random.choice([0,1], size=ishape, p=[self._p, 1-self._p])\n",
    "        self.mu = np.flip(self.nu,1)[::-1]\n",
    "        self.H = im.kernel2fft(self.nu, ishape[0], ishape[1])\n",
    "        self.H_star = im.kernel2fft(self.mu, ishape[0], ishape[1])\n",
    "    def __call__(self, x):\n",
    "        return im.convolvefft(x, self.H)\n",
    "    def adjoint(self, x):\n",
    "        return im.convolvefft(x, self.H_star)\n",
    "    def gram(self, x):\n",
    "        return im.convolvefft(x, self.H*self.H_star)\n",
    "    def gram_resolvent(self, x, tau):\n",
    "        res_lbd = 1 / (1 + tau * self.H*self.H_star)\n",
    "        return im.convolvefft(x, res_lbd)"
   ]
  },
  {
   "cell_type": "markdown",
   "metadata": {},
   "source": [
    "### 4"
   ]
  },
  {
   "cell_type": "code",
   "execution_count": 7,
   "metadata": {},
   "outputs": [
    {
     "ename": "TypeError",
     "evalue": "__init__() missing 1 required positional argument: 'nu'",
     "output_type": "error",
     "traceback": [
      "\u001b[0;31m---------------------------------------------------------------------------\u001b[0m",
      "\u001b[0;31mTypeError\u001b[0m                                 Traceback (most recent call last)",
      "\u001b[0;32m<ipython-input-7-6410f9b8372d>\u001b[0m in \u001b[0;36m<module>\u001b[0;34m\u001b[0m\n\u001b[1;32m      1\u001b[0m \u001b[0mx0\u001b[0m \u001b[0;34m=\u001b[0m \u001b[0mstarfish\u001b[0m\u001b[0;34m\u001b[0m\u001b[0;34m\u001b[0m\u001b[0m\n\u001b[1;32m      2\u001b[0m \u001b[0mhi\u001b[0m \u001b[0;34m=\u001b[0m \u001b[0mim\u001b[0m\u001b[0;34m.\u001b[0m\u001b[0mIdentity\u001b[0m\u001b[0;34m(\u001b[0m\u001b[0mx0\u001b[0m\u001b[0;34m.\u001b[0m\u001b[0mshape\u001b[0m\u001b[0;34m)\u001b[0m\u001b[0;34m\u001b[0m\u001b[0;34m\u001b[0m\u001b[0m\n\u001b[0;32m----> 3\u001b[0;31m \u001b[0mhc\u001b[0m \u001b[0;34m=\u001b[0m \u001b[0mim\u001b[0m\u001b[0;34m.\u001b[0m\u001b[0mConvolution\u001b[0m\u001b[0;34m(\u001b[0m\u001b[0mx0\u001b[0m\u001b[0;34m.\u001b[0m\u001b[0mshape\u001b[0m\u001b[0;34m)\u001b[0m\u001b[0;34m\u001b[0m\u001b[0;34m\u001b[0m\u001b[0m\n\u001b[0m\u001b[1;32m      4\u001b[0m \u001b[0mhr\u001b[0m \u001b[0;34m=\u001b[0m \u001b[0mim\u001b[0m\u001b[0;34m.\u001b[0m\u001b[0mRandomMasking\u001b[0m\u001b[0;34m(\u001b[0m\u001b[0mx0\u001b[0m\u001b[0;34m.\u001b[0m\u001b[0mshape\u001b[0m\u001b[0;34m)\u001b[0m\u001b[0;34m\u001b[0m\u001b[0;34m\u001b[0m\u001b[0m\n\u001b[1;32m      5\u001b[0m \u001b[0mnu2\u001b[0m \u001b[0;34m=\u001b[0m \u001b[0mim\u001b[0m\u001b[0;34m.\u001b[0m\u001b[0mkernel\u001b[0m\u001b[0;34m(\u001b[0m\u001b[0;34m'motion'\u001b[0m\u001b[0;34m)\u001b[0m\u001b[0;34m\u001b[0m\u001b[0;34m\u001b[0m\u001b[0m\n",
      "\u001b[0;31mTypeError\u001b[0m: __init__() missing 1 required positional argument: 'nu'"
     ]
    }
   ],
   "source": [
    "x0 = starfish\n",
    "hi = im.Identity(x0.shape)\n",
    "nu2 = im.kernel('motion')\n",
    "hc = im.Convolution(x0.shape, nu2)\n",
    "hr = im.RandomMasking(x0.shape, 0.4)\n",
    "x1 = hi(x0)\n",
    "x2 = hc(x0)\n",
    "x3 = hr(x0)\n",
    "fig, axes = plt.subplots(ncols=3, figsize=(8,2)) \n",
    "im.show(x1, ax=axes[0])\n",
    "im.show(x2, ax=axes[1])\n",
    "im.show(x3, ax=axes[2])\n",
    "fig.show()"
   ]
  },
  {
   "cell_type": "code",
   "execution_count": 4,
   "metadata": {},
   "outputs": [
    {
     "data": {
      "text/plain": [
       "array([[0.00000000e+00, 0.00000000e+00, 0.00000000e+00, 0.00000000e+00,\n",
       "        0.00000000e+00, 0.00000000e+00, 0.00000000e+00, 0.00000000e+00,\n",
       "        0.00000000e+00, 0.00000000e+00, 0.00000000e+00, 0.00000000e+00,\n",
       "        1.25523013e-02, 0.00000000e+00, 0.00000000e+00, 0.00000000e+00,\n",
       "        0.00000000e+00],\n",
       "       [0.00000000e+00, 0.00000000e+00, 0.00000000e+00, 0.00000000e+00,\n",
       "        0.00000000e+00, 0.00000000e+00, 0.00000000e+00, 0.00000000e+00,\n",
       "        0.00000000e+00, 0.00000000e+00, 0.00000000e+00, 1.28636978e-05,\n",
       "        1.26893406e-02, 2.77228631e-03, 2.56970015e-05, 1.05544784e-05,\n",
       "        0.00000000e+00],\n",
       "       [0.00000000e+00, 0.00000000e+00, 0.00000000e+00, 0.00000000e+00,\n",
       "        0.00000000e+00, 0.00000000e+00, 0.00000000e+00, 0.00000000e+00,\n",
       "        0.00000000e+00, 0.00000000e+00, 9.56894552e-07, 7.57602058e-07,\n",
       "        1.42124852e-02, 3.62016162e-02, 1.14426561e-03, 8.86718833e-05,\n",
       "        0.00000000e+00],\n",
       "       [0.00000000e+00, 0.00000000e+00, 0.00000000e+00, 0.00000000e+00,\n",
       "        0.00000000e+00, 0.00000000e+00, 0.00000000e+00, 0.00000000e+00,\n",
       "        0.00000000e+00, 0.00000000e+00, 1.45836638e-05, 1.04574220e-03,\n",
       "        3.25942893e-02, 1.87555974e-02, 3.11127496e-05, 1.25849870e-02,\n",
       "        0.00000000e+00],\n",
       "       [0.00000000e+00, 0.00000000e+00, 0.00000000e+00, 0.00000000e+00,\n",
       "        0.00000000e+00, 0.00000000e+00, 0.00000000e+00, 0.00000000e+00,\n",
       "        7.73021259e-06, 1.26473426e-02, 1.49671144e-04, 2.41652757e-02,\n",
       "        2.52970801e-02, 5.91058808e-04, 1.54610298e-04, 1.01676123e-05,\n",
       "        0.00000000e+00],\n",
       "       [0.00000000e+00, 0.00000000e+00, 0.00000000e+00, 0.00000000e+00,\n",
       "        0.00000000e+00, 0.00000000e+00, 0.00000000e+00, 6.53602453e-07,\n",
       "        2.08553009e-05, 8.63694563e-03, 2.29295200e-02, 1.05049611e-02,\n",
       "        1.38425848e-02, 1.67566110e-05, 3.71726760e-06, 0.00000000e+00,\n",
       "        0.00000000e+00],\n",
       "       [0.00000000e+00, 0.00000000e+00, 0.00000000e+00, 0.00000000e+00,\n",
       "        0.00000000e+00, 1.20922064e-05, 5.23188620e-05, 2.04819360e-04,\n",
       "        3.90863444e-02, 2.72065031e-02, 2.47326114e-03, 3.47995010e-03,\n",
       "        1.43696707e-04, 9.45909629e-06, 3.79027947e-07, 0.00000000e+00,\n",
       "        0.00000000e+00],\n",
       "       [0.00000000e+00, 0.00000000e+00, 0.00000000e+00, 1.16168169e-05,\n",
       "        2.31912218e-05, 1.29949087e-02, 6.30171441e-03, 3.84290811e-02,\n",
       "        2.13902136e-02, 8.21975797e-03, 6.12098289e-03, 6.80855290e-02,\n",
       "        1.95465409e-02, 7.40422950e-06, 1.28779374e-06, 0.00000000e+00,\n",
       "        0.00000000e+00],\n",
       "       [0.00000000e+00, 0.00000000e+00, 1.78266336e-05, 1.62573965e-04,\n",
       "        4.69829329e-03, 2.08468065e-02, 2.13670208e-02, 1.52331291e-02,\n",
       "        1.12073402e-02, 2.22563448e-02, 2.12066488e-02, 2.31629222e-02,\n",
       "        8.18757008e-05, 6.96238000e-06, 7.38874136e-06, 0.00000000e+00,\n",
       "        0.00000000e+00],\n",
       "       [0.00000000e+00, 1.82514793e-06, 9.47273564e-07, 9.11997395e-03,\n",
       "        2.78396975e-02, 1.56250865e-02, 2.06735452e-02, 1.50349085e-02,\n",
       "        1.78116007e-02, 5.12035316e-03, 1.41572249e-06, 3.99848626e-05,\n",
       "        8.86091619e-06, 1.02208672e-05, 0.00000000e+00, 0.00000000e+00,\n",
       "        0.00000000e+00],\n",
       "       [0.00000000e+00, 2.86215928e-06, 7.40444098e-03, 8.60266684e-02,\n",
       "        3.06740049e-02, 1.91490976e-02, 1.25798908e-02, 7.13221518e-03,\n",
       "        1.26715163e-02, 1.38055679e-04, 3.02259080e-06, 3.48637735e-06,\n",
       "        3.71906440e-06, 0.00000000e+00, 0.00000000e+00, 0.00000000e+00,\n",
       "        0.00000000e+00],\n",
       "       [0.00000000e+00, 1.25739012e-02, 4.21001770e-04, 1.62811671e-02,\n",
       "        6.27575736e-06, 4.32251890e-04, 1.40643726e-06, 1.51300285e-04,\n",
       "        3.48698538e-06, 7.48770855e-05, 3.89309285e-06, 0.00000000e+00,\n",
       "        0.00000000e+00, 0.00000000e+00, 0.00000000e+00, 0.00000000e+00,\n",
       "        0.00000000e+00],\n",
       "       [0.00000000e+00, 4.62734779e-06, 1.25672352e-02, 1.25637351e-02,\n",
       "        9.68991112e-06, 8.92099881e-06, 9.16397920e-06, 2.89892362e-05,\n",
       "        2.98424736e-06, 0.00000000e+00, 0.00000000e+00, 0.00000000e+00,\n",
       "        0.00000000e+00, 0.00000000e+00, 0.00000000e+00, 0.00000000e+00,\n",
       "        0.00000000e+00],\n",
       "       [0.00000000e+00, 0.00000000e+00, 5.02175748e-07, 3.84474197e-06,\n",
       "        1.19796791e-07, 0.00000000e+00, 0.00000000e+00, 0.00000000e+00,\n",
       "        0.00000000e+00, 0.00000000e+00, 0.00000000e+00, 0.00000000e+00,\n",
       "        0.00000000e+00, 0.00000000e+00, 0.00000000e+00, 0.00000000e+00,\n",
       "        0.00000000e+00],\n",
       "       [0.00000000e+00, 0.00000000e+00, 0.00000000e+00, 0.00000000e+00,\n",
       "        0.00000000e+00, 0.00000000e+00, 0.00000000e+00, 0.00000000e+00,\n",
       "        0.00000000e+00, 0.00000000e+00, 0.00000000e+00, 0.00000000e+00,\n",
       "        0.00000000e+00, 0.00000000e+00, 0.00000000e+00, 0.00000000e+00,\n",
       "        0.00000000e+00],\n",
       "       [0.00000000e+00, 0.00000000e+00, 0.00000000e+00, 0.00000000e+00,\n",
       "        0.00000000e+00, 0.00000000e+00, 0.00000000e+00, 0.00000000e+00,\n",
       "        0.00000000e+00, 0.00000000e+00, 0.00000000e+00, 0.00000000e+00,\n",
       "        0.00000000e+00, 0.00000000e+00, 0.00000000e+00, 0.00000000e+00,\n",
       "        0.00000000e+00],\n",
       "       [0.00000000e+00, 0.00000000e+00, 0.00000000e+00, 0.00000000e+00,\n",
       "        0.00000000e+00, 0.00000000e+00, 0.00000000e+00, 0.00000000e+00,\n",
       "        0.00000000e+00, 0.00000000e+00, 0.00000000e+00, 0.00000000e+00,\n",
       "        0.00000000e+00, 0.00000000e+00, 0.00000000e+00, 0.00000000e+00,\n",
       "        0.00000000e+00]])"
      ]
     },
     "execution_count": 4,
     "metadata": {},
     "output_type": "execute_result"
    }
   ],
   "source": []
  },
  {
   "cell_type": "code",
   "execution_count": null,
   "metadata": {},
   "outputs": [],
   "source": []
  }
 ],
 "metadata": {
  "kernelspec": {
   "display_name": "Python 3",
   "language": "python",
   "name": "python3"
  },
  "language_info": {
   "codemirror_mode": {
    "name": "ipython",
    "version": 3
   },
   "file_extension": ".py",
   "mimetype": "text/x-python",
   "name": "python",
   "nbconvert_exporter": "python",
   "pygments_lexer": "ipython3",
   "version": "3.7.1"
  }
 },
 "nbformat": 4,
 "nbformat_minor": 2
}
